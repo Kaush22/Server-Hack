{
 "cells": [
  {
   "cell_type": "code",
   "execution_count": 17,
   "metadata": {},
   "outputs": [
    {
     "data": {
      "image/png": "[encoded data removed]",
      "text/plain": [
       "<Figure size 432x288 with 2 Axes>"
      ]
     },
     "metadata": {
      "needs_background": "light"
     },
     "output_type": "display_data"
    }
   ],
   "source": [
    "# -*- coding: utf-8 -*-\n",
    "\"\"\"\n",
    "Created on Wed Jun 17 23:31:58 2020\n",
    "\n",
    "@author: Kaush\n",
    "\"\"\"\n",
    "################## Importing all the libraries #################\n",
    "import numpy as np\n",
    "import pandas as pd\n",
    "import matplotlib.pyplot as plt\n",
    "from sklearn.ensemble import RandomForestClassifier\n",
    "from sklearn.model_selection import train_test_split, GridSearchCV\n",
    "from sklearn.ensemble import GradientBoostingClassifier\n",
    "from sklearn.metrics import recall_score, confusion_matrix\n",
    "import seaborn as sns\n",
    "\n",
    "\n",
    "################ Reading data sets ############################\n",
    "data_train = pd.read_csv(\"Dataset/train.csv\")\n",
    "data_test = pd.read_csv(\"Dataset/test.csv\")\n",
    "\n",
    "Y = data_train.MULTIPLE_OFFENSE\n",
    "X = data_train.drop(columns = 'MULTIPLE_OFFENSE')\n",
    "\n",
    "\n",
    "############################## Preposessing Data #########################\n",
    "\n",
    "X.drop(columns = 'INCIDENT_ID', inplace = True)\n",
    "Incident_id = data_test.INCIDENT_ID\n",
    "data_test.drop(columns = 'INCIDENT_ID', inplace = True)\n",
    "\n",
    "X['DATE'] = pd.to_datetime(X['DATE'])   \n",
    "X['year'] = X.DATE.dt.year\n",
    "X['month'] = X.DATE.dt.month\n",
    "X['day'] = X.DATE.dt.day\n",
    "X.drop(columns = 'DATE', inplace =True)\n",
    "\n",
    "data_test['DATE'] = pd.to_datetime(data_test['DATE'])   \n",
    "data_test['year'] = data_test.DATE.dt.year\n",
    "data_test['month'] = data_test.DATE.dt.month\n",
    "data_test['day'] = data_test.DATE.dt.day\n",
    "data_test.drop(columns = 'DATE', inplace =True)\n",
    "\n",
    "\n",
    "X.astype({'X_1':np.int8, 'X_2':np.int8, 'X_3':np.int8, 'X_4':np.int8, 'X_5':np.int8, 'X_6':np.int8, 'X_7':np.int8, 'X_8':np.int8, 'X_9':np.int8, 'X_10':np.int8}).dtypes\n",
    "X.astype({'X_11': np.int16, 'X_13':np.int8, 'X_14':np.int8, 'X_15':np.int8, 'month': np.int8, \"day\": np.int8, 'year': np.int16})\n",
    "\n",
    "\n",
    "X.X_12.fillna(1, inplace=True)\n",
    "data_test.X_12.fillna(1, inplace=True)\n",
    "\n",
    "\n",
    "########################## Removing dependent variables ############################\n",
    "sns.heatmap(X.corr())\n",
    "\n",
    "X.drop('X_2', inplace=True, axis=1)\n",
    "data_test.drop('X_2', inplace=True, axis=1)\n",
    "\n",
    "\n",
    "\n",
    "##########################Spliting train test data #########################\n",
    "X_train, X_test, Y_train, Y_test = train_test_split(X, Y, test_size=0.75, random_state=10)\n",
    "\n",
    "\n"
   ]
  },
  {
   "cell_type": "code",
   "execution_count": 18,
   "metadata": {},
   "outputs": [
    {
     "name": "stdout",
     "output_type": "stream",
     "text": [
      "[[  760    32]\n",
      " [   15 17085]]\n"
     ]
    }
   ],
   "source": [
    "\n",
    "########################### GradientBoostingClassifier with default parameters #############################\n",
    "\n",
    "gbm = GradientBoostingClassifier( loss = 'exponential')\n",
    "\n",
    "hypara = {'learning_rate' : [0.01, 0.05, 0.1], 'n_estimators' : [500, 1000, 2000], 'max_depth' : [7, 9, 11], 'max_features' : ['auto', 'sqrt', 'log2']}\n",
    "\n",
    "gbm.fit(X_train, Y_train)\n",
    "y_predict = gbm.predict(X_test)\n",
    "print(confusion_matrix(Y_test, y_predict))\n",
    "\n",
    "predict = gbm.predict(data_test)\n",
    "d = {'INCIDENT_ID': Incident_id, 'MULTIPLE_OFFENSE': predict}\n",
    "submission_test = pd.DataFrame(d)\n",
    "submission_test.to_csv(\"submission_gbm.csv\", index=False)\n",
    "\n",
    "\n"
   ]
  },
  {
   "cell_type": "code",
   "execution_count": 19,
   "metadata": {},
   "outputs": [
    {
     "data": {
      "text/plain": [
       "0.9991228070175439"
      ]
     },
     "execution_count": 19,
     "metadata": {},
     "output_type": "execute_result"
    }
   ],
   "source": [
    "recall_score(Y_test, y_predict)"
   ]
  },
  {
   "cell_type": "code",
   "execution_count": 20,
   "metadata": {},
   "outputs": [
    {
     "name": "stderr",
     "output_type": "stream",
     "text": [
      "C:\\Anaconda3\\lib\\site-packages\\sklearn\\model_selection\\_split.py:1978: FutureWarning: The default value of cv will change from 3 to 5 in version 0.22. Specify it explicitly to silence this warning.\n",
      "  warnings.warn(CV_WARNING, FutureWarning)\n"
     ]
    },
    {
     "name": "stdout",
     "output_type": "stream",
     "text": [
      "[[  756    36]\n",
      " [   27 17073]]\n"
     ]
    }
   ],
   "source": [
    "#################################### XGBClassification #########################\n",
    "xgb = XGBClassifier(n_jobs=-1 )\n",
    "\n",
    "hypara = {'learning_rate' : [0.01, 0.05, 0.1], 'max_depth' : [7, 9, 11]}\n",
    "\n",
    "gsm = GridSearchCV(xgb, hypara, n_jobs=-1)\n",
    "gsm.fit(X_train, Y_train)\n",
    "\n",
    "y_predict = gsm.predict(X_test)\n",
    "\n",
    "print(confusion_matrix(Y_test, y_predict))\n",
    "\n",
    "\n",
    "predict_gsmm = gsm.predict(data_test)\n",
    "d = {'INCIDENT_ID': Incident_id, 'MULTIPLE_OFFENSE': predict_xgb}\n",
    "submission_test_gsm = pd.DataFrame(d)\n",
    "submission_test_gsm.to_csv(\"submission_gsm.csv\", index=False)"
   ]
  },
  {
   "cell_type": "code",
   "execution_count": 21,
   "metadata": {},
   "outputs": [
    {
     "data": {
      "text/plain": [
       "0.998421052631579"
      ]
     },
     "execution_count": 21,
     "metadata": {},
     "output_type": "execute_result"
    }
   ],
   "source": [
    "recall_score(Y_test, y_predict)"
   ]
  },
  {
   "cell_type": "code",
   "execution_count": null,
   "metadata": {},
   "outputs": [],
   "source": []
  }
 ],
 "metadata": {
  "kernelspec": {
   "display_name": "Python 3",
   "language": "python",
   "name": "python3"
  },
  "language_info": {
   "codemirror_mode": {
    "name": "ipython",
    "version": 3
   },
   "file_extension": ".py",
   "mimetype": "text/x-python",
   "name": "python",
   "nbconvert_exporter": "python",
   "pygments_lexer": "ipython3",
   "version": "3.7.1"
  }
 },
 "nbformat": 4,
 "nbformat_minor": 2
}
